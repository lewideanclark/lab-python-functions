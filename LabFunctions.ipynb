{
 "cells": [
  {
   "cell_type": "code",
   "execution_count": null,
   "id": "55af7daf-d4ca-4b53-b2d4-1177d358bb5d",
   "metadata": {},
   "outputs": [],
   "source": [
    "products = [\"t-shirt\", \"mug\", \"hat\", \"book\", \"keychain\"]\n",
    "\n",
    "inventory = {}\n",
    "\n",
    "for items in products: \n",
    "    quantity = int(input(f\"Enter the {items} quantity here: \"))\n",
    "    inventory[items] = quantity\n",
    "\n",
    "customer_orders = set()\n",
    "\n",
    "more_order = \"yes\"\n",
    "\n",
    "while more_order == \"yes\":\n",
    "    product_name = input(\"Enter the name of the product: \")\n",
    "    customer_orders.add(product_name)\n",
    "    more_order = input(\"Do you want to add another product? (yes/no): \")\n",
    "\n",
    "total_products_ordered = len(customer_orders)\n",
    "\n",
    "percent_ordered = (total_products_ordered / len(products)) * 100\n",
    "\n",
    "order_status = (total_products_ordered, percent_ordered)\n",
    "\n",
    "for item in customer_orders:\n",
    "    inventory[item] -= 1\n",
    "\n",
    "for product, quantity in inventory.items():\n",
    "    print(f\"{product}: {quantity}\")\n",
    "\n",
    "\n",
    "print(\"Order Statistics:\", order_status)\n",
    "print(\"Total Products Ordered:\", order_status[0])\n",
    "print(\"Percentage of Products Ordered:\", f\"{order_status[1]:.2f}%\")"
   ]
  },
  {
   "cell_type": "code",
   "execution_count": 1,
   "id": "7e10b82b-6cb3-49f3-baad-f1c75e59c13b",
   "metadata": {},
   "outputs": [
    {
     "name": "stdin",
     "output_type": "stream",
     "text": [
      "Enter the t-shirt quantity here:  10\n",
      "Enter the mug quantity here:  10\n",
      "Enter the hat quantity here:  10\n",
      "Enter the book quantity here:  10\n",
      "Enter the keychain quantity here:  10\n"
     ]
    },
    {
     "name": "stdout",
     "output_type": "stream",
     "text": [
      "{'t-shirt': 10, 'mug': 10, 'hat': 10, 'book': 10, 'keychain': 10}\n"
     ]
    },
    {
     "name": "stdin",
     "output_type": "stream",
     "text": [
      "Enter the name of the product:  t-shirt\n",
      "Do you want to add another product? (yes/no):  yes\n",
      "Enter the name of the product:  t-shirt\n",
      "Do you want to add another product? (yes/no):  yes\n",
      "Enter the name of the product:  hat\n",
      "Do you want to add another product? (yes/no):  yes\n",
      "Enter the name of the product:  mug\n",
      "Do you want to add another product? (yes/no):  no\n"
     ]
    },
    {
     "name": "stdout",
     "output_type": "stream",
     "text": [
      "{'hat', 't-shirt', 'mug'}\n",
      "(3, 60.0)\n",
      "t-shirt: 9\n",
      "mug: 9\n",
      "hat: 9\n",
      "book: 10\n",
      "keychain: 10\n",
      "Order Statistics: (3, 60.0)\n",
      "Total Products Ordered: 3\n",
      "Percentage of Products Ordered: 60.00%\n"
     ]
    }
   ],
   "source": [
    "products = [\"t-shirt\", \"mug\", \"hat\", \"book\", \"keychain\"]\n",
    "\n",
    "def initialise_inventory(products):\n",
    "\n",
    "    inventory = {}\n",
    "    \n",
    "    for items in products: \n",
    "        quantity = int(input(f\"Enter the {items} quantity here: \"))\n",
    "        inventory[items] = quantity\n",
    "    return inventory\n",
    "\n",
    "    customer_orders = set()\n",
    "\n",
    "    more_order = \"yes\"\n",
    "\n",
    "def get_customer_orders():\n",
    "\n",
    "    customer_orders = set()\n",
    "\n",
    "    more_order = \"yes\"\n",
    "\n",
    "    while more_order == \"yes\":\n",
    "        product_name = input(\"Enter the name of the product: \")\n",
    "        customer_orders.add(product_name)\n",
    "        more_order = input(\"Do you want to add another product? (yes/no): \") \n",
    "    return customer_orders\n",
    "\n",
    "def update_inventory(customer_orders, inventory):\n",
    "    for item in customer_orders:\n",
    "        inventory[item] -= 1\n",
    "\n",
    "def calculate_order_statistics(customer_orders, products):\n",
    "    total_ordered = len(customer_orders)\n",
    "    percent_ordered = (total_ordered / len(products)) * 100\n",
    "    return total_ordered, percent_ordered\n",
    "\n",
    "def print_order_statistics(order_statistics):\n",
    "    print(\"Order Statistics:\", order_statistics)\n",
    "    print(\"Total Products Ordered:\", order_statistics[0])\n",
    "    print(\"Percentage of Products Ordered:\", f\"{order_statistics[1]:.2f}%\")\n",
    "\n",
    "def print_updated_inventory(inventory):\n",
    "    for product, quantity in inventory.items():\n",
    "        print(f\"{product}: {quantity}\")\n",
    "\n",
    "\n",
    "inventory = initialise_inventory(products)\n",
    "print(inventory)\n",
    "\n",
    "customer_orders = get_customer_orders()\n",
    "print(customer_orders)\n",
    "\n",
    "update_inventory(customer_orders, inventory)\n",
    "\n",
    "order_stats = calculate_order_statistics(customer_orders, products)\n",
    "print(order_stats)\n",
    "\n",
    "print_updated_inventory(inventory)\n",
    "\n",
    "print_order_statistics(order_stats)"
   ]
  },
  {
   "cell_type": "code",
   "execution_count": null,
   "id": "5d076c6b-1b23-4543-ac90-ed35dce95fea",
   "metadata": {},
   "outputs": [],
   "source": []
  }
 ],
 "metadata": {
  "kernelspec": {
   "display_name": "Python [conda env:base] *",
   "language": "python",
   "name": "conda-base-py"
  },
  "language_info": {
   "codemirror_mode": {
    "name": "ipython",
    "version": 3
   },
   "file_extension": ".py",
   "mimetype": "text/x-python",
   "name": "python",
   "nbconvert_exporter": "python",
   "pygments_lexer": "ipython3",
   "version": "3.13.5"
  }
 },
 "nbformat": 4,
 "nbformat_minor": 5
}
